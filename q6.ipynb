{
 "cells": [
  {
   "cell_type": "code",
   "execution_count": 1,
   "metadata": {
    "jupyter": {
     "source_hidden": true
    }
   },
   "outputs": [],
   "source": [
    "import pandas as pd\n",
    "import plotly.express as px\n",
    "from src.modules import *\n",
    "mobile = pd.read_csv('datasets/mobile_data.csv')"
   ]
  },
  {
   "cell_type": "markdown",
   "metadata": {},
   "source": [
    "<div style=\"direction:rtl;line-height:300%;\"><font face=\"IRANSans\" size=5>\n",
    "<font color=red size=7>\n",
    "<p></p>\n",
    "<div align=center>بخش ۶ </div>\n",
    "</font></div><hr/>"
   ]
  },
  {
   "cell_type": "markdown",
   "metadata": {},
   "source": [
    "<div style=\"direction:rtl;line-height:150%;\"><font face=\"IRANSans\" size=3>\n",
    "    دیتاست مربوط به گوشی‌های موبایل به شما داده شده است. با کمک دستور \n",
    "    <code>head</code>\n",
    "    چندتا از این داده‌ها را مشاهده کنید.\n",
    "</font></div>"
   ]
  },
  {
   "cell_type": "code",
   "execution_count": 3,
   "metadata": {},
   "outputs": [
    {
     "data": {
      "text/html": [
       "<div>\n",
       "<style scoped>\n",
       "    .dataframe tbody tr th:only-of-type {\n",
       "        vertical-align: middle;\n",
       "    }\n",
       "\n",
       "    .dataframe tbody tr th {\n",
       "        vertical-align: top;\n",
       "    }\n",
       "\n",
       "    .dataframe thead th {\n",
       "        text-align: right;\n",
       "    }\n",
       "</style>\n",
       "<table border=\"1\" class=\"dataframe\">\n",
       "  <thead>\n",
       "    <tr style=\"text-align: right;\">\n",
       "      <th></th>\n",
       "      <th>company</th>\n",
       "      <th>device</th>\n",
       "      <th>price</th>\n",
       "      <th>year</th>\n",
       "      <th>announced</th>\n",
       "      <th>dim_length</th>\n",
       "      <th>dim_breadth</th>\n",
       "      <th>dim_thickness</th>\n",
       "      <th>weight</th>\n",
       "      <th>display_tech</th>\n",
       "      <th>...</th>\n",
       "      <th>gpu</th>\n",
       "      <th>ram</th>\n",
       "      <th>LTE</th>\n",
       "      <th>gps</th>\n",
       "      <th>radio</th>\n",
       "      <th>nfc</th>\n",
       "      <th>wlan</th>\n",
       "      <th>audio_jack</th>\n",
       "      <th>battery_mah</th>\n",
       "      <th>bt_v</th>\n",
       "    </tr>\n",
       "  </thead>\n",
       "  <tbody>\n",
       "    <tr>\n",
       "      <th>0</th>\n",
       "      <td>Acer</td>\n",
       "      <td>Liquid Z6 Plus</td>\n",
       "      <td>250.0</td>\n",
       "      <td>2016.0</td>\n",
       "      <td>2016, August</td>\n",
       "      <td>153.8</td>\n",
       "      <td>75.6</td>\n",
       "      <td>8.5</td>\n",
       "      <td>169.0</td>\n",
       "      <td>IPS LCD capacitive touchscreen, 16M colors</td>\n",
       "      <td>...</td>\n",
       "      <td>Mali-T720MP3</td>\n",
       "      <td>3.0</td>\n",
       "      <td>Yes</td>\n",
       "      <td>Yes</td>\n",
       "      <td>Yes</td>\n",
       "      <td>No</td>\n",
       "      <td>Yes</td>\n",
       "      <td>Yes</td>\n",
       "      <td>4080.0</td>\n",
       "      <td>4.0</td>\n",
       "    </tr>\n",
       "    <tr>\n",
       "      <th>1</th>\n",
       "      <td>Acer</td>\n",
       "      <td>Liquid Z6</td>\n",
       "      <td>120.0</td>\n",
       "      <td>2016.0</td>\n",
       "      <td>2016, August</td>\n",
       "      <td>NaN</td>\n",
       "      <td>NaN</td>\n",
       "      <td>NaN</td>\n",
       "      <td>NaN</td>\n",
       "      <td>IPS LCD capacitive touchscreen, 16M colors</td>\n",
       "      <td>...</td>\n",
       "      <td>Mali-T720MP2</td>\n",
       "      <td>1.0</td>\n",
       "      <td>Yes</td>\n",
       "      <td>Yes</td>\n",
       "      <td>Yes</td>\n",
       "      <td>No</td>\n",
       "      <td>Yes</td>\n",
       "      <td>Yes</td>\n",
       "      <td>2000.0</td>\n",
       "      <td>NaN</td>\n",
       "    </tr>\n",
       "    <tr>\n",
       "      <th>2</th>\n",
       "      <td>Acer</td>\n",
       "      <td>Liquid X2</td>\n",
       "      <td>230.0</td>\n",
       "      <td>2015.0</td>\n",
       "      <td>2015, April</td>\n",
       "      <td>153.3</td>\n",
       "      <td>78.8</td>\n",
       "      <td>8.5</td>\n",
       "      <td>166.0</td>\n",
       "      <td>IPS LCD capacitive touchscreen, 16M colors</td>\n",
       "      <td>...</td>\n",
       "      <td>Mali-T720MP4</td>\n",
       "      <td>3.0</td>\n",
       "      <td>Yes</td>\n",
       "      <td>Yes</td>\n",
       "      <td>Yes</td>\n",
       "      <td>No</td>\n",
       "      <td>Yes</td>\n",
       "      <td>Yes</td>\n",
       "      <td>4020.0</td>\n",
       "      <td>4.0</td>\n",
       "    </tr>\n",
       "    <tr>\n",
       "      <th>3</th>\n",
       "      <td>Acer</td>\n",
       "      <td>Liquid Jade 2</td>\n",
       "      <td>NaN</td>\n",
       "      <td>2016.0</td>\n",
       "      <td>2016, February</td>\n",
       "      <td>NaN</td>\n",
       "      <td>NaN</td>\n",
       "      <td>NaN</td>\n",
       "      <td>NaN</td>\n",
       "      <td>Super AMOLED capacitive touchscreen, 16M colors</td>\n",
       "      <td>...</td>\n",
       "      <td>NaN</td>\n",
       "      <td>3.0</td>\n",
       "      <td>Yes</td>\n",
       "      <td>Yes</td>\n",
       "      <td>Yes</td>\n",
       "      <td>No</td>\n",
       "      <td>Yes</td>\n",
       "      <td>Yes</td>\n",
       "      <td>NaN</td>\n",
       "      <td>4.0</td>\n",
       "    </tr>\n",
       "    <tr>\n",
       "      <th>4</th>\n",
       "      <td>Acer</td>\n",
       "      <td>Liquid Zest Plus</td>\n",
       "      <td>200.0</td>\n",
       "      <td>2016.0</td>\n",
       "      <td>2016, April</td>\n",
       "      <td>154.0</td>\n",
       "      <td>77.0</td>\n",
       "      <td>10.0</td>\n",
       "      <td>NaN</td>\n",
       "      <td>IPS LCD capacitive touchscreen, 16M colors</td>\n",
       "      <td>...</td>\n",
       "      <td>Mali-T720MP2</td>\n",
       "      <td>2.0</td>\n",
       "      <td>Yes</td>\n",
       "      <td>Yes</td>\n",
       "      <td>Yes</td>\n",
       "      <td>No</td>\n",
       "      <td>Yes</td>\n",
       "      <td>Yes</td>\n",
       "      <td>5000.0</td>\n",
       "      <td>NaN</td>\n",
       "    </tr>\n",
       "  </tbody>\n",
       "</table>\n",
       "<p>5 rows × 36 columns</p>\n",
       "</div>"
      ],
      "text/plain": [
       "  company            device  price    year       announced  dim_length  \\\n",
       "0    Acer    Liquid Z6 Plus  250.0  2016.0    2016, August       153.8   \n",
       "1    Acer         Liquid Z6  120.0  2016.0    2016, August         NaN   \n",
       "2    Acer         Liquid X2  230.0  2015.0     2015, April       153.3   \n",
       "3    Acer     Liquid Jade 2    NaN  2016.0  2016, February         NaN   \n",
       "4    Acer  Liquid Zest Plus  200.0  2016.0     2016, April       154.0   \n",
       "\n",
       "   dim_breadth  dim_thickness  weight  \\\n",
       "0         75.6            8.5   169.0   \n",
       "1          NaN            NaN     NaN   \n",
       "2         78.8            8.5   166.0   \n",
       "3          NaN            NaN     NaN   \n",
       "4         77.0           10.0     NaN   \n",
       "\n",
       "                                      display_tech  ...           gpu  ram  \\\n",
       "0       IPS LCD capacitive touchscreen, 16M colors  ...  Mali-T720MP3  3.0   \n",
       "1       IPS LCD capacitive touchscreen, 16M colors  ...  Mali-T720MP2  1.0   \n",
       "2       IPS LCD capacitive touchscreen, 16M colors  ...  Mali-T720MP4  3.0   \n",
       "3  Super AMOLED capacitive touchscreen, 16M colors  ...           NaN  3.0   \n",
       "4       IPS LCD capacitive touchscreen, 16M colors  ...  Mali-T720MP2  2.0   \n",
       "\n",
       "   LTE  gps  radio nfc wlan  audio_jack battery_mah  bt_v  \n",
       "0  Yes  Yes    Yes  No  Yes         Yes      4080.0   4.0  \n",
       "1  Yes  Yes    Yes  No  Yes         Yes      2000.0   NaN  \n",
       "2  Yes  Yes    Yes  No  Yes         Yes      4020.0   4.0  \n",
       "3  Yes  Yes    Yes  No  Yes         Yes         NaN   4.0  \n",
       "4  Yes  Yes    Yes  No  Yes         Yes      5000.0   NaN  \n",
       "\n",
       "[5 rows x 36 columns]"
      ]
     },
     "execution_count": 3,
     "metadata": {},
     "output_type": "execute_result"
    }
   ],
   "source": [
    "head(mobile)"
   ]
  },
  {
   "cell_type": "markdown",
   "metadata": {},
   "source": [
    "<div style=\"direction:rtl;line-height:150%;\"><font face=\"IRANSans\" size=3>\n",
    "    با کمک دستور \n",
    "    <code>show_columns</code>\n",
    "    می‌توانید نام تمامی ستون‌های  موجود در این دیتاست را مشاهده کنید:\n",
    "</font></div>"
   ]
  },
  {
   "cell_type": "code",
   "execution_count": null,
   "metadata": {},
   "outputs": [],
   "source": []
  },
  {
   "cell_type": "markdown",
   "metadata": {},
   "source": [
    "<div style=\"direction:rtl;line-height:150%;\"><font face=\"IRANSans\" size=3>\n",
    "    با توجه به این دیتاست، به سوالات زیر پاسخ دهید:)\n",
    "    <br><br>\n",
    "۱-کدام نوع سیستم‌عامل به طور متوسط، گوشی‌های گران‌تری دارد؟    \n",
    "</font></div>"
   ]
  },
  {
   "cell_type": "code",
   "execution_count": null,
   "metadata": {},
   "outputs": [],
   "source": []
  },
  {
   "cell_type": "markdown",
   "metadata": {},
   "source": [
    "<div style=\"direction:rtl;line-height:150%;\"><font face=\"IRANSans\" size=3>\n",
    "    ۲-قیمت پرچمداران برند سامسونگ در هر سال را پیدا کرده و نمودار آن را رسم کنید.\n",
    "</font></div>"
   ]
  },
  {
   "cell_type": "code",
   "execution_count": null,
   "metadata": {},
   "outputs": [],
   "source": []
  },
  {
   "cell_type": "markdown",
   "metadata": {},
   "source": [
    "<div style=\"direction:rtl;line-height:150%;\"><font face=\"IRANSans\" size=3>\n",
    "    ۳-نمودار ستونی ۱۰ سال با بیشترین تولید گوشی را رسم کنید.\n",
    "</font></div>"
   ]
  },
  {
   "cell_type": "code",
   "execution_count": null,
   "metadata": {},
   "outputs": [],
   "source": []
  },
  {
   "cell_type": "markdown",
   "metadata": {},
   "source": [
    "<div style=\"direction:rtl;line-height:150%;\"><font face=\"IRANSans\" size=3>\n",
    "    ۴-متوسط کیفیت دوربین اصلی برای گوشی‌هایی با اندازه‌ی صفحه‌ی بزرگتر از معمول چند است؟\n",
    "</font></div>"
   ]
  },
  {
   "cell_type": "code",
   "execution_count": null,
   "metadata": {},
   "outputs": [],
   "source": []
  },
  {
   "cell_type": "markdown",
   "metadata": {},
   "source": [
    "<div style=\"direction:rtl;line-height:150%;\"><font face=\"IRANSans\" size=3>\n",
    "    ۵-کدام گوشی‌ها با رم کمتر از ۳،  قابلیت اتصال به wifi را ندارند؟\n",
    "</font></div>"
   ]
  },
  {
   "cell_type": "code",
   "execution_count": null,
   "metadata": {},
   "outputs": [],
   "source": []
  },
  {
   "cell_type": "markdown",
   "metadata": {},
   "source": [
    "<div style=\"direction:rtl;line-height:150%;\"><font face=\"IRANSans\" size=3>\n",
    "    ۶-با رسم یک نمودار، افزایش علاقمندی به عکس سلفی را بررسی نمایید. (برای گوشی‌هایی که دوربین جلو ندارند، کیفیت آن را صفر در نظر بگیرید.) \n",
    "</font></div>"
   ]
  },
  {
   "cell_type": "code",
   "execution_count": null,
   "metadata": {},
   "outputs": [],
   "source": []
  },
  {
   "cell_type": "markdown",
   "metadata": {},
   "source": [
    "<div style=\"direction:rtl;line-height:150%;\"><font face=\"IRANSans\" size=3>\n",
    "    ۷-نمودار ستونی متوسط قیمت گوشی‌ها را بر حسب تعداد سیم‌کارت و دسترسی به LTE رسم کنید.\n",
    "</font></div>"
   ]
  },
  {
   "cell_type": "code",
   "execution_count": null,
   "metadata": {},
   "outputs": [],
   "source": []
  },
  {
   "cell_type": "markdown",
   "metadata": {},
   "source": [
    "<div style=\"direction:rtl;line-height:150%;\"><font face=\"IRANSans\" size=3>\n",
    "    ۸-کدام شرکت‌ها پس از سال ۲۰۱۰ از نظر ظرفیت باتری و رم بهتر از متوسط عمل کرده‌اند؟\n",
    "</font></div>"
   ]
  },
  {
   "cell_type": "code",
   "execution_count": null,
   "metadata": {},
   "outputs": [],
   "source": []
  },
  {
   "cell_type": "markdown",
   "metadata": {},
   "source": [
    "<div style=\"direction:rtl;line-height:150%;\"><font face=\"IRANSans\" size=3>\n",
    "    ۹-کدام شرکت بیشترین تعداد گوشی را تولید کرده است؟ نمودار ستونی ۲۰ شرکت برتر بر حسب تعداد گوشی تولید شده را رسم کنید.\n",
    "</font></div>"
   ]
  },
  {
   "cell_type": "code",
   "execution_count": null,
   "metadata": {},
   "outputs": [],
   "source": []
  },
  {
   "cell_type": "markdown",
   "metadata": {},
   "source": [
    "<div style=\"direction:rtl;line-height:150%;\"><font face=\"IRANSans\" size=3>\n",
    "    ۱۰-چه تعداد از شرکت‌ها پس از سال ۲۰۰۸، گوشی‌هایی بدون قابلیت خواندن کارت حافظه جانبی تولید کرده‌اند؟ نمودار ستونی تعداد گوشی‌های تولید شده بر حسب آن را رسم کنید.\n",
    "</font></div>"
   ]
  },
  {
   "cell_type": "code",
   "execution_count": null,
   "metadata": {},
   "outputs": [],
   "source": []
  },
  {
   "cell_type": "markdown",
   "metadata": {},
   "source": [
    "<div style=\"direction:rtl;line-height:150%;\"><font face=\"IRANSans\" size=3>\n",
    "    ۱۱-نمودار جعبه‌ای ضخامت گوشی‌های معرفی شده در سال ۲۰۱۷ را بر حسب وجود و عدم وجود جک هدفون رسم کنید. همچنین بررسی نمایید آیا می‌توانیم نتیجه بگیریم گوشی‌های بدون جک ضخامت کمتری دارند؟\n",
    "</font></div>"
   ]
  },
  {
   "cell_type": "code",
   "execution_count": null,
   "metadata": {},
   "outputs": [],
   "source": []
  },
  {
   "cell_type": "markdown",
   "metadata": {},
   "source": [
    "<div style=\"direction:rtl;line-height:150%;\"><font face=\"IRANSans\" size=3>\n",
    "    ۱۲-مفهوم PPI (Pixel Per Inch) را برای گوشی‌های موبایل محاسبه و به داده اضافه نمایید. سپس هیستوگرام آن را رسم کنید.\n",
    "</font></div>"
   ]
  },
  {
   "cell_type": "code",
   "execution_count": null,
   "metadata": {},
   "outputs": [],
   "source": []
  },
  {
   "cell_type": "markdown",
   "metadata": {},
   "source": [
    "<div style=\"direction:rtl;line-height:150%;\"><font face=\"IRANSans\" size=3>\n",
    "    ۱۳-چند شرکت‌ بیشتر از ۱۰ گوشی با قابلیت nfc تولید کرده‌اند؟\n",
    "</font></div>"
   ]
  },
  {
   "cell_type": "code",
   "execution_count": null,
   "metadata": {},
   "outputs": [],
   "source": []
  },
  {
   "cell_type": "markdown",
   "metadata": {},
   "source": [
    "<div style=\"direction:rtl;line-height:150%;\"><font face=\"IRANSans\" size=3>\n",
    "    ۱۴-در گذشته به بعضی از مدل‌های نوکیا گوشکوب گفته می‌شد. سعی کنید برای این مفهوم کمیت مناسبی تعریف کنید. سپس ده گوشکوب برتر را پیدا کرده و نمودار گوشکوبیت آن را رسم نمایید.\n",
    "</font></div>"
   ]
  },
  {
   "cell_type": "code",
   "execution_count": null,
   "metadata": {},
   "outputs": [],
   "source": []
  },
  {
   "cell_type": "markdown",
   "metadata": {},
   "source": [
    "<div style=\"direction:rtl;line-height:150%;\"><font face=\"IRANSans\" size=3>\n",
    "    ۱۵-آیا تلفن همراهی وجود دارد که در آب غرق نشود؟ اگر جواب بله است، تمام گوشی‌هایی که این خاصیت را دارند بیابید. سعی کنید با رسم یک نمودار به این سوال پاسخ دهید.\n",
    "</font></div>"
   ]
  },
  {
   "cell_type": "code",
   "execution_count": null,
   "metadata": {},
   "outputs": [],
   "source": []
  },
  {
   "cell_type": "markdown",
   "metadata": {},
   "source": [
    "<div style=\"direction:rtl;line-height:150%;\"><font face=\"IRANSans\" size=3>\n",
    "    ۱۶-همبستگی میان کیفیت دوربین اصلی و دوربین جلو را بررسی نمایید.\n",
    "</font></div>"
   ]
  },
  {
   "cell_type": "code",
   "execution_count": null,
   "metadata": {},
   "outputs": [],
   "source": []
  },
  {
   "cell_type": "markdown",
   "metadata": {},
   "source": [
    "<div style=\"direction:rtl;line-height:150%;\"><font face=\"IRANSans\" size=3>\n",
    "    ۱۷-به نظر شما همبستگی ظرفیت باتری با ضخامت گوشی بیشتر است و یا وزن آن؟ با رسم نمودار بررسی نمایید. آیا این رابطه از نوع علت و معلولی می‌باشد؟\n",
    "</font></div>"
   ]
  },
  {
   "cell_type": "code",
   "execution_count": null,
   "metadata": {},
   "outputs": [],
   "source": []
  },
  {
   "cell_type": "markdown",
   "metadata": {},
   "source": [
    "<div style=\"direction:rtl;line-height:150%;\"><font face=\"IRANSans\" size=3>\n",
    "    ۱۸-نمودار متوسط طول گوشی‌های موبایل بر حسب سال را رسم نمایید.\n",
    "</font></div>"
   ]
  },
  {
   "cell_type": "code",
   "execution_count": null,
   "metadata": {},
   "outputs": [],
   "source": []
  },
  {
   "cell_type": "markdown",
   "metadata": {},
   "source": [
    "<div style=\"direction:rtl;line-height:150%;\"><font face=\"IRANSans\" size=3>\n",
    "    ۱۹-نمودار پهنا و اندازه‌ی صفحه‌ی نمایش گوشی‌های موبایل را بر حسب طول آن‌ها رسم نموده و به آن یک مدل خطی اضافه کنید.\n",
    "</font></div>"
   ]
  },
  {
   "cell_type": "code",
   "execution_count": null,
   "metadata": {},
   "outputs": [],
   "source": []
  }
 ],
 "metadata": {
  "kernelspec": {
   "display_name": "Python 3",
   "language": "python",
   "name": "python3"
  },
  "language_info": {
   "codemirror_mode": {
    "name": "ipython",
    "version": 3
   },
   "file_extension": ".py",
   "mimetype": "text/x-python",
   "name": "python",
   "nbconvert_exporter": "python",
   "pygments_lexer": "ipython3",
   "version": "3.7.4"
  }
 },
 "nbformat": 4,
 "nbformat_minor": 4
}
